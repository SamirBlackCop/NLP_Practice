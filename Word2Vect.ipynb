{
 "cells": [
  {
   "cell_type": "code",
   "execution_count": 34,
   "metadata": {},
   "outputs": [],
   "source": [
    "import nltk\n",
    "from gensim.models import Word2Vec\n",
    "from nltk.corpus import stopwords\n",
    "from nltk.stem import WordNetLemmatizer\n",
    "import re"
   ]
  },
  {
   "cell_type": "code",
   "execution_count": 74,
   "metadata": {},
   "outputs": [],
   "source": [
    "paragraph = \"Every programmer starts with a basic code Hello World for his first venture to the new arena of tetchncal world, Just like when a new born baby is calls his mother\""
   ]
  },
  {
   "cell_type": "code",
   "execution_count": 62,
   "metadata": {},
   "outputs": [],
   "source": [
    "#processing the text\n",
    "\n",
    "text = re.sub(\"r[\\[0-9]*\\]\", \" \", paragraph)\n",
    "text = re.sub(r\"\\s+\", \" \", text)\n",
    "text = text.lower()\n",
    "text  = re.sub(r\"\\d\", \" \", text)\n",
    "text = re.sub(r\"\\s+\", \" \", text)"
   ]
  },
  {
   "cell_type": "code",
   "execution_count": 63,
   "metadata": {},
   "outputs": [
    {
     "data": {
      "text/plain": [
       "[['every',\n",
       "  'king',\n",
       "  'queen',\n",
       "  'programmer',\n",
       "  'starts',\n",
       "  'with',\n",
       "  'a',\n",
       "  'basic',\n",
       "  'code',\n",
       "  'hello',\n",
       "  'world',\n",
       "  'for',\n",
       "  'his',\n",
       "  'first',\n",
       "  'venture',\n",
       "  'to',\n",
       "  'the',\n",
       "  'new',\n",
       "  'arena',\n",
       "  'of',\n",
       "  'tetchncal',\n",
       "  'world',\n",
       "  ',',\n",
       "  'just',\n",
       "  'like',\n",
       "  'when',\n",
       "  'a',\n",
       "  'new',\n",
       "  'born',\n",
       "  'baby',\n",
       "  'is',\n",
       "  'calls',\n",
       "  'his',\n",
       "  'mother']]"
      ]
     },
     "execution_count": 63,
     "metadata": {},
     "output_type": "execute_result"
    }
   ],
   "source": [
    "sentences = nltk.sent_tokenize(text)\n",
    "sentences = [nltk.word_tokenize(sentence) for sentence in sentences]\n",
    "sentences"
   ]
  },
  {
   "cell_type": "code",
   "execution_count": 64,
   "metadata": {},
   "outputs": [],
   "source": [
    "for i in range(len(sentences)):\n",
    "    sentences[i] = [word for word in sentences[i] if word not in stopwords.words('english')]"
   ]
  },
  {
   "cell_type": "code",
   "execution_count": 65,
   "metadata": {},
   "outputs": [
    {
     "data": {
      "text/plain": [
       "[['every',\n",
       "  'king',\n",
       "  'queen',\n",
       "  'programmer',\n",
       "  'starts',\n",
       "  'basic',\n",
       "  'code',\n",
       "  'hello',\n",
       "  'world',\n",
       "  'first',\n",
       "  'venture',\n",
       "  'new',\n",
       "  'arena',\n",
       "  'tetchncal',\n",
       "  'world',\n",
       "  ',',\n",
       "  'like',\n",
       "  'new',\n",
       "  'born',\n",
       "  'baby',\n",
       "  'calls',\n",
       "  'mother']]"
      ]
     },
     "execution_count": 65,
     "metadata": {},
     "output_type": "execute_result"
    }
   ],
   "source": [
    "sentences"
   ]
  },
  {
   "cell_type": "code",
   "execution_count": 66,
   "metadata": {},
   "outputs": [],
   "source": [
    "model = Word2Vec(sentences, min_count=1)"
   ]
  },
  {
   "cell_type": "code",
   "execution_count": 67,
   "metadata": {},
   "outputs": [
    {
     "data": {
      "text/plain": [
       "{'every': <gensim.models.keyedvectors.Vocab at 0x2329a62d940>,\n",
       " 'king': <gensim.models.keyedvectors.Vocab at 0x2329a62d880>,\n",
       " 'queen': <gensim.models.keyedvectors.Vocab at 0x2329a62d130>,\n",
       " 'programmer': <gensim.models.keyedvectors.Vocab at 0x2329b128340>,\n",
       " 'starts': <gensim.models.keyedvectors.Vocab at 0x2329b128700>,\n",
       " 'basic': <gensim.models.keyedvectors.Vocab at 0x2329ac47e20>,\n",
       " 'code': <gensim.models.keyedvectors.Vocab at 0x2329ac47eb0>,\n",
       " 'hello': <gensim.models.keyedvectors.Vocab at 0x2329ac47ee0>,\n",
       " 'world': <gensim.models.keyedvectors.Vocab at 0x2329ac47dc0>,\n",
       " 'first': <gensim.models.keyedvectors.Vocab at 0x2329ac47d90>,\n",
       " 'venture': <gensim.models.keyedvectors.Vocab at 0x2329ac47fd0>,\n",
       " 'new': <gensim.models.keyedvectors.Vocab at 0x2329ac47d60>,\n",
       " 'arena': <gensim.models.keyedvectors.Vocab at 0x2329b1fe820>,\n",
       " 'tetchncal': <gensim.models.keyedvectors.Vocab at 0x2329b1fe550>,\n",
       " ',': <gensim.models.keyedvectors.Vocab at 0x2329a905820>,\n",
       " 'like': <gensim.models.keyedvectors.Vocab at 0x2329a905bb0>,\n",
       " 'born': <gensim.models.keyedvectors.Vocab at 0x2329a905430>,\n",
       " 'baby': <gensim.models.keyedvectors.Vocab at 0x2329a9057f0>,\n",
       " 'calls': <gensim.models.keyedvectors.Vocab at 0x2329a9058b0>,\n",
       " 'mother': <gensim.models.keyedvectors.Vocab at 0x2329a905400>}"
      ]
     },
     "execution_count": 67,
     "metadata": {},
     "output_type": "execute_result"
    }
   ],
   "source": [
    "words = model.wv.vocab\n",
    "words"
   ]
  },
  {
   "cell_type": "code",
   "execution_count": 73,
   "metadata": {},
   "outputs": [
    {
     "data": {
      "text/plain": [
       "array([-2.3654529e-03,  3.7691530e-03, -3.5713159e-03,  3.7996136e-03,\n",
       "        3.2317340e-03, -4.3406021e-03,  2.2348449e-04,  4.5273053e-03,\n",
       "        1.8581329e-03,  1.5061570e-04, -4.5542009e-03,  2.9775901e-03,\n",
       "       -2.2269706e-03, -4.5812381e-03, -9.7016187e-04,  2.8600320e-03,\n",
       "       -3.6268793e-03,  3.3387896e-03,  2.8152894e-03,  4.8546814e-03,\n",
       "       -4.8143393e-03,  5.4494740e-04, -4.3082083e-04,  3.4420176e-03,\n",
       "        1.1894099e-03,  1.5357691e-03,  2.2659793e-03, -1.1648925e-03,\n",
       "        6.5104730e-05,  3.9309068e-03,  4.8499973e-03,  2.9232162e-03,\n",
       "        3.7656378e-03, -4.9489988e-03, -6.7777315e-04,  1.6346292e-04,\n",
       "       -3.1719999e-03, -3.7328809e-04, -3.5619887e-03,  2.0889267e-03,\n",
       "        2.8781267e-03,  3.7151752e-03,  2.5504392e-03, -4.3961573e-03,\n",
       "       -4.6643121e-03, -2.0642302e-03, -1.1998835e-03, -2.1009678e-03,\n",
       "       -4.4903643e-03, -3.7324219e-03, -4.0426720e-03, -2.3363642e-03,\n",
       "        1.8290024e-04, -1.8682886e-03,  2.7137299e-04, -2.1951192e-03,\n",
       "       -1.7464053e-03,  2.3462018e-03, -5.3543900e-04, -4.3149740e-03,\n",
       "       -9.9336007e-04, -1.4142903e-03, -1.1677543e-03, -4.0554684e-03,\n",
       "        3.5584888e-03, -1.8242470e-03, -3.6971474e-03,  6.3839991e-04,\n",
       "       -3.9184424e-03,  7.8923273e-04, -8.5690129e-04,  3.4085632e-04,\n",
       "        2.9522618e-03, -1.0146690e-03,  3.3756460e-03,  4.3909093e-03,\n",
       "        2.1520751e-03, -4.7149989e-03, -8.5819920e-04, -3.7835697e-03,\n",
       "        2.0145345e-03,  4.9425093e-03, -4.5386306e-03, -5.8732898e-04,\n",
       "        4.3088137e-03, -2.3918832e-03,  9.5743267e-04,  2.7925705e-03,\n",
       "       -1.6582647e-03,  4.1096010e-03,  3.5830273e-03,  4.9327430e-04,\n",
       "       -4.4937171e-03,  6.5042963e-04,  4.9421997e-03, -4.7592307e-03,\n",
       "        3.4155136e-03,  4.7544017e-03,  2.5191570e-03, -7.5455704e-05],\n",
       "      dtype=float32)"
      ]
     },
     "execution_count": 73,
     "metadata": {},
     "output_type": "execute_result"
    }
   ],
   "source": [
    "#Finding the vector of the word baby\n",
    "vector  = model.wv['baby']\n",
    "vector"
   ]
  },
  {
   "cell_type": "code",
   "execution_count": 72,
   "metadata": {},
   "outputs": [
    {
     "data": {
      "text/plain": [
       "[('venture', 0.1611756533384323),\n",
       " ('mother', 0.11772874742746353),\n",
       " ('like', 0.11674763262271881),\n",
       " ('every', 0.09790660440921783),\n",
       " ('tetchncal', 0.09348131716251373),\n",
       " ('calls', 0.09330232441425323),\n",
       " ('code', 0.0846281498670578),\n",
       " ('queen', 0.0758298933506012),\n",
       " ('first', 0.07516016066074371),\n",
       " (',', 0.0633663609623909)]"
      ]
     },
     "execution_count": 72,
     "metadata": {},
     "output_type": "execute_result"
    }
   ],
   "source": [
    "# finding the simmilar word of baby\n",
    "\n",
    "similar = model.wv.most_similar('baby')\n",
    "similar"
   ]
  },
  {
   "cell_type": "markdown",
   "metadata": {},
   "source": [
    "## Another way to Preprocess the Para"
   ]
  },
  {
   "cell_type": "code",
   "execution_count": 55,
   "metadata": {},
   "outputs": [
    {
     "data": {
      "text/plain": [
       "[['every',\n",
       "  'pogrammer',\n",
       "  'start',\n",
       "  'basic',\n",
       "  'code',\n",
       "  'hello',\n",
       "  'world',\n",
       "  'first',\n",
       "  'venture',\n",
       "  'new',\n",
       "  'arena',\n",
       "  'tetchncal',\n",
       "  'world',\n",
       "  'like',\n",
       "  'new',\n",
       "  'born',\n",
       "  'baby',\n",
       "  'call',\n",
       "  'mother']]"
      ]
     },
     "execution_count": 55,
     "metadata": {},
     "output_type": "execute_result"
    }
   ],
   "source": [
    "# dataset preprocessing \n",
    "from nltk.stem.porter import PorterStemmer\n",
    "wordnet = WordNetLemmatizer()\n",
    "\n",
    "\n",
    "review = re.sub(\"[^a-zA-Z]\", \" \", paragraph)\n",
    "review = review.lower()\n",
    "review = review.split()\n",
    "\n",
    "review = [[wordnet.lemmatize(word) for word in review if not word in stopwords.words('english')]]\n",
    "#review  = ' '.join(review)\n",
    "review"
   ]
  },
  {
   "cell_type": "code",
   "execution_count": 56,
   "metadata": {},
   "outputs": [],
   "source": [
    "model = Word2Vec(review, min_count=1)\n",
    "words = model.wv.vocab"
   ]
  },
  {
   "cell_type": "code",
   "execution_count": 57,
   "metadata": {},
   "outputs": [
    {
     "data": {
      "text/plain": [
       "array([-2.3654529e-03,  3.7691530e-03, -3.5713159e-03,  3.7996136e-03,\n",
       "        3.2317340e-03, -4.3406021e-03,  2.2348449e-04,  4.5273053e-03,\n",
       "        1.8581329e-03,  1.5061570e-04, -4.5542009e-03,  2.9775901e-03,\n",
       "       -2.2269706e-03, -4.5812381e-03, -9.7016187e-04,  2.8600320e-03,\n",
       "       -3.6268793e-03,  3.3387896e-03,  2.8152894e-03,  4.8546814e-03,\n",
       "       -4.8143393e-03,  5.4494740e-04, -4.3082083e-04,  3.4420176e-03,\n",
       "        1.1894099e-03,  1.5357691e-03,  2.2659793e-03, -1.1648925e-03,\n",
       "        6.5104730e-05,  3.9309068e-03,  4.8499973e-03,  2.9232162e-03,\n",
       "        3.7656378e-03, -4.9489988e-03, -6.7777315e-04,  1.6346292e-04,\n",
       "       -3.1719999e-03, -3.7328809e-04, -3.5619887e-03,  2.0889267e-03,\n",
       "        2.8781267e-03,  3.7151752e-03,  2.5504392e-03, -4.3961573e-03,\n",
       "       -4.6643121e-03, -2.0642302e-03, -1.1998835e-03, -2.1009678e-03,\n",
       "       -4.4903643e-03, -3.7324219e-03, -4.0426720e-03, -2.3363642e-03,\n",
       "        1.8290024e-04, -1.8682886e-03,  2.7137299e-04, -2.1951192e-03,\n",
       "       -1.7464053e-03,  2.3462018e-03, -5.3543900e-04, -4.3149740e-03,\n",
       "       -9.9336007e-04, -1.4142903e-03, -1.1677543e-03, -4.0554684e-03,\n",
       "        3.5584888e-03, -1.8242470e-03, -3.6971474e-03,  6.3839991e-04,\n",
       "       -3.9184424e-03,  7.8923273e-04, -8.5690129e-04,  3.4085632e-04,\n",
       "        2.9522618e-03, -1.0146690e-03,  3.3756460e-03,  4.3909093e-03,\n",
       "        2.1520751e-03, -4.7149989e-03, -8.5819920e-04, -3.7835697e-03,\n",
       "        2.0145345e-03,  4.9425093e-03, -4.5386306e-03, -5.8732898e-04,\n",
       "        4.3088137e-03, -2.3918832e-03,  9.5743267e-04,  2.7925705e-03,\n",
       "       -1.6582647e-03,  4.1096010e-03,  3.5830273e-03,  4.9327430e-04,\n",
       "       -4.4937171e-03,  6.5042963e-04,  4.9421997e-03, -4.7592307e-03,\n",
       "        3.4155136e-03,  4.7544017e-03,  2.5191570e-03, -7.5455704e-05],\n",
       "      dtype=float32)"
      ]
     },
     "execution_count": 57,
     "metadata": {},
     "output_type": "execute_result"
    }
   ],
   "source": [
    "#Finding the vector of the word baby\n",
    "vector  = model.wv['baby']\n",
    "vector"
   ]
  },
  {
   "cell_type": "code",
   "execution_count": 60,
   "metadata": {},
   "outputs": [
    {
     "data": {
      "text/plain": [
       "[('venture', 0.1612316370010376),\n",
       " ('call', 0.14744293689727783),\n",
       " ('mother', 0.11780325323343277),\n",
       " ('like', 0.11688125133514404),\n",
       " ('every', 0.09790660440921783),\n",
       " ('tetchncal', 0.0934627503156662),\n",
       " ('code', 0.08474662154912949),\n",
       " ('first', 0.07524540275335312),\n",
       " ('arena', 0.044193848967552185),\n",
       " ('world', 0.01701926440000534)]"
      ]
     },
     "execution_count": 60,
     "metadata": {},
     "output_type": "execute_result"
    }
   ],
   "source": [
    "# finding the simmilar word of baby\n",
    "\n",
    "similar = model.wv.most_similar('baby')\n",
    "similar"
   ]
  },
  {
   "cell_type": "code",
   "execution_count": null,
   "metadata": {},
   "outputs": [],
   "source": []
  },
  {
   "cell_type": "code",
   "execution_count": null,
   "metadata": {},
   "outputs": [],
   "source": []
  }
 ],
 "metadata": {
  "kernelspec": {
   "display_name": "Python 3",
   "language": "python",
   "name": "python3"
  },
  "language_info": {
   "codemirror_mode": {
    "name": "ipython",
    "version": 3
   },
   "file_extension": ".py",
   "mimetype": "text/x-python",
   "name": "python",
   "nbconvert_exporter": "python",
   "pygments_lexer": "ipython3",
   "version": "3.8.5"
  }
 },
 "nbformat": 4,
 "nbformat_minor": 4
}
